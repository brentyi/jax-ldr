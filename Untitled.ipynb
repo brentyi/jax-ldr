{
 "cells": [
  {
   "cell_type": "code",
   "execution_count": 1,
   "id": "a78a0062-3ca3-44e7-994a-b0967e18ddc1",
   "metadata": {},
   "outputs": [],
   "source": [
    "from ldr import mnist_training, mnist_data, mnist_viz\n",
    "import fifteen\n",
    "import numpy as onp"
   ]
  },
  {
   "cell_type": "code",
   "execution_count": null,
   "id": "57f6c744-3cb3-4d82-a993-a2a115b44b04",
   "metadata": {},
   "outputs": [],
   "source": []
  },
  {
   "cell_type": "code",
   "execution_count": 2,
   "id": "3ca3fcd9-71e0-42cc-b489-a16eda08bf2f",
   "metadata": {},
   "outputs": [
    {
     "name": "stdout",
     "output_type": "stream",
     "text": [
      "[Experiment-mnist-ldr-2021-11-07-12:40:05] Reading metadata from experiments/mnist-ldr-2021-11-07-12:40:05/train_config.yaml\n"
     ]
    }
   ],
   "source": [
    "experiment = fifteen.experiments.Experiment(identifier=\"mnist-ldr-2021-11-07-12:40:05\")\n",
    "config = experiment.read_metadata(\"train_config\", mnist_training.TrainConfig)\n",
    "train_state = mnist_training.TrainState.setup(\n",
    "    config=config,\n",
    "    seed=0,\n",
    ")\n",
    "train_state = experiment.restore_checkpoint(train_state)"
   ]
  },
  {
   "cell_type": "code",
   "execution_count": 3,
   "id": "560575ab-520a-44c5-94d7-24576eb8508e",
   "metadata": {},
   "outputs": [
    {
     "name": "stdout",
     "output_type": "stream",
     "text": [
      "Training step count: 2100\n"
     ]
    }
   ],
   "source": [
    "print(f\"Training step count: {train_state.steps}\")"
   ]
  },
  {
   "cell_type": "code",
   "execution_count": null,
   "id": "5fac748b-b85c-4217-b0bc-4b23a0b0c740",
   "metadata": {},
   "outputs": [],
   "source": []
  },
  {
   "cell_type": "code",
   "execution_count": 4,
   "id": "c7faa600-7f53-406b-be73-11e26b44c3b5",
   "metadata": {},
   "outputs": [
    {
     "name": "stderr",
     "output_type": "stream",
     "text": [
      "WARNING:datasets.builder:Reusing dataset mnist (/home/brent/.cache/huggingface/datasets/mnist/mnist/1.0.0/5064c25e57a1678f700d2dc798ffe8a6d519405cca7d33670fffda477857a994)\n"
     ]
    },
    {
     "data": {
      "application/vnd.jupyter.widget-view+json": {
       "model_id": "c3ba3f3b2bbb445d837dcdcc2c9c57e6",
       "version_major": 2,
       "version_minor": 0
      },
      "text/plain": [
       "  0%|          | 0/2 [00:00<?, ?it/s]"
      ]
     },
     "metadata": {},
     "output_type": "display_data"
    }
   ],
   "source": [
    "mnist_test = mnist_data.load_mnist_dataset(\"train\")"
   ]
  },
  {
   "cell_type": "code",
   "execution_count": 5,
   "id": "3ad15b76-23e1-4e8d-b78b-a11c5789482b",
   "metadata": {},
   "outputs": [],
   "source": [
    "import jax\n",
    "from jax import numpy as jnp\n",
    "\n",
    "minibatch = jax.tree_map(lambda x: x[:16], mnist_test)"
   ]
  },
  {
   "cell_type": "code",
   "execution_count": 7,
   "id": "7c4ef385-07bf-4d45-bca3-5003caeb6ccf",
   "metadata": {},
   "outputs": [
    {
     "data": {
      "text/plain": [
       "array([[[255, 255, 255],\n",
       "        [255, 255, 255],\n",
       "        [255, 255, 255],\n",
       "        ...,\n",
       "        [255, 255, 255],\n",
       "        [255, 255, 255],\n",
       "        [255, 255, 255]],\n",
       "\n",
       "       [[255, 255, 255],\n",
       "        [255, 255, 255],\n",
       "        [255, 255, 255],\n",
       "        ...,\n",
       "        [255, 255, 255],\n",
       "        [255, 255, 255],\n",
       "        [255, 255, 255]],\n",
       "\n",
       "       [[255, 255, 255],\n",
       "        [255, 255, 255],\n",
       "        [255, 255, 255],\n",
       "        ...,\n",
       "        [255, 255, 255],\n",
       "        [255, 255, 255],\n",
       "        [255, 255, 255]],\n",
       "\n",
       "       ...,\n",
       "\n",
       "       [[255, 255, 255],\n",
       "        [255, 255, 255],\n",
       "        [255, 255, 255],\n",
       "        ...,\n",
       "        [255, 255, 255],\n",
       "        [255, 255, 255],\n",
       "        [255, 255, 255]],\n",
       "\n",
       "       [[255, 255, 255],\n",
       "        [255, 255, 255],\n",
       "        [255, 255, 255],\n",
       "        ...,\n",
       "        [255, 255, 255],\n",
       "        [255, 255, 255],\n",
       "        [255, 255, 255]],\n",
       "\n",
       "       [[255, 255, 255],\n",
       "        [255, 255, 255],\n",
       "        [255, 255, 255],\n",
       "        ...,\n",
       "        [255, 255, 255],\n",
       "        [255, 255, 255],\n",
       "        [255, 255, 255]]], dtype=uint8)"
      ]
     },
     "execution_count": 7,
     "metadata": {},
     "output_type": "execute_result"
    },
    {
     "data": {
      "image/png": "[encoded data removed]",
      "text/plain": [
       "<Figure size 216x216 with 16 Axes>"
      ]
     },
     "metadata": {
      "needs_background": "light"
     },
     "output_type": "display_data"
    }
   ],
   "source": [
    "import matplotlib\n",
    "\n",
    "matplotlib.use(\"Agg\")\n",
    "\n",
    "mnist_viz.visualize_encode_decode(\n",
    "    train_state,\n",
    "    minibatch,\n",
    ")"
   ]
  },
  {
   "cell_type": "code",
   "execution_count": 6,
   "id": "70514520-6d9d-49de-b8f8-89092da6d6c3",
   "metadata": {},
   "outputs": [],
   "source": [
    "@jax.jit\n",
    "def f(X: jnp.ndarray) -> jnp.ndarray:\n",
    "    return train_state.f_model.apply(train_state.f_state, X, train=False)\n",
    "\n",
    "\n",
    "@jax.jit\n",
    "def g(Z: jnp.ndarray) -> jnp.ndarray:\n",
    "    return train_state.g_model.apply(train_state.g_state, Z, train=False)"
   ]
  },
  {
   "cell_type": "code",
   "execution_count": 7,
   "id": "3b7d9ee5-1d1f-4dae-8158-5abc6cd236f3",
   "metadata": {},
   "outputs": [
    {
     "name": "stdout",
     "output_type": "stream",
     "text": [
      "hi\n"
     ]
    }
   ],
   "source": [
    "print(\"hi\")"
   ]
  },
  {
   "cell_type": "code",
   "execution_count": 8,
   "id": "0a956043-1b09-4f83-9924-9c6412901a17",
   "metadata": {},
   "outputs": [],
   "source": [
    "import matplotlib\n",
    "import matplotlib.pyplot as plt\n",
    "\n",
    "import PIL\n",
    "\n",
    "import io\n",
    "\n",
    "# matplotlib.use(\"Agg\")\n",
    "\n",
    "\n",
    "def gen_plot():\n",
    "    \"\"\"Create a pyplot plot and save to buffer.\"\"\"\n",
    "    plt.figure()\n",
    "    plt.plot([1, 2])\n",
    "    plt.title(\"test\")\n",
    "    buf = io.BytesIO()\n",
    "    plt.savefig(buf, format=\"jpeg\")\n",
    "    buf.seek(0)\n",
    "    return buf"
   ]
  },
  {
   "cell_type": "code",
   "execution_count": 9,
   "id": "69f6d7f0-2b7c-4e9c-aa21-9087077c00bb",
   "metadata": {},
   "outputs": [
    {
     "data": {
      "image/png": "[encoded data removed]",
      "text/plain": [
       "<Figure size 432x288 with 1 Axes>"
      ]
     },
     "metadata": {
      "needs_background": "light"
     },
     "output_type": "display_data"
    }
   ],
   "source": [
    "img = onp.array(PIL.Image.open(gen_plot()))\n",
    "plt.imshow(img)\n",
    "plt.show()"
   ]
  },
  {
   "cell_type": "code",
   "execution_count": 10,
   "id": "6b485b11-2be3-4846-9951-5f7e6505d99e",
   "metadata": {},
   "outputs": [
    {
     "data": {
      "text/plain": [
       "<bound method SummaryWriter.image of <flax.metrics.tensorboard.SummaryWriter object at 0x7ff680158e20>>"
      ]
     },
     "execution_count": 10,
     "metadata": {},
     "output_type": "execute_result"
    }
   ],
   "source": [
    "experiment.summary_writer.image"
   ]
  },
  {
   "cell_type": "code",
   "execution_count": 11,
   "id": "0cfd3230-00ee-451f-8f5c-72d0270ce0d7",
   "metadata": {},
   "outputs": [
    {
     "data": {
      "image/png": "[encoded data removed]",
      "text/plain": [
       "<Figure size 432x288 with 1 Axes>"
      ]
     },
     "metadata": {
      "needs_background": "light"
     },
     "output_type": "display_data"
    },
    {
     "data": {
      "image/png": "[encoded data removed]",
      "text/plain": [
       "<Figure size 432x288 with 1 Axes>"
      ]
     },
     "metadata": {
      "needs_background": "light"
     },
     "output_type": "display_data"
    }
   ],
   "source": [
    "import matplotlib.pyplot as plt\n",
    "\n",
    "X = minibatch.image\n",
    "Z = f(minibatch.image)\n",
    "X_hat = g(Z)\n",
    "Z_hat = f(X_hat)\n",
    "\n",
    "idx = 7\n",
    "plt.imshow(X[idx].squeeze(axis=-1))\n",
    "plt.title(\"original X\")\n",
    "plt.show()\n",
    "\n",
    "plt.imshow(X_hat[idx].squeeze(axis=-1))\n",
    "plt.title(\"f(g(f(X)))\")\n",
    "plt.show()"
   ]
  },
  {
   "cell_type": "code",
   "execution_count": 28,
   "id": "24a3d101-e0a3-4f92-9baa-f23318bcad89",
   "metadata": {},
   "outputs": [
    {
     "data": {
      "image/png": "[encoded data removed]",
      "text/plain": [
       "<Figure size 216x216 with 16 Axes>"
      ]
     },
     "metadata": {
      "needs_background": "light"
     },
     "output_type": "display_data"
    }
   ],
   "source": [
    "fig, axs = plt.subplots(4, 4, figsize=(3, 3))\n",
    "axs = axs.flatten()\n",
    "for i in range(16 // 2):\n",
    "    axs[i * 2].imshow(X[i])\n",
    "    axs[i * 2 + 1].imshow(X_hat[i])\n",
    "    if i < 4:\n",
    "        axs[i * 2].set_title(\"X\")\n",
    "        axs[i * 2 + 1].set_title(\"g(f(X))\")"
   ]
  },
  {
   "cell_type": "code",
   "execution_count": null,
   "id": "832961ff-5232-4fc0-ad0b-307c533bd184",
   "metadata": {},
   "outputs": [],
   "source": []
  },
  {
   "cell_type": "code",
   "execution_count": 13,
   "id": "44cb76f0-cfba-45dc-8449-1938b45ad2cb",
   "metadata": {},
   "outputs": [],
   "source": [
    "from ldr import mcr"
   ]
  },
  {
   "cell_type": "code",
   "execution_count": 14,
   "id": "57d12ae2-7695-4219-aaec-f77402f036c1",
   "metadata": {},
   "outputs": [
    {
     "data": {
      "text/plain": [
       "DeviceArray(27.938858, dtype=float32)"
      ]
     },
     "execution_count": 14,
     "metadata": {},
     "output_type": "execute_result"
    }
   ],
   "source": [
    "mcr.coding_rate(Z, 0.5)"
   ]
  },
  {
   "cell_type": "code",
   "execution_count": 15,
   "id": "86e055e3-2aaf-4bed-860f-d0280063121a",
   "metadata": {},
   "outputs": [
    {
     "data": {
      "text/plain": [
       "DeviceArray(216.92719, dtype=float32)"
      ]
     },
     "execution_count": 15,
     "metadata": {},
     "output_type": "execute_result"
    }
   ],
   "source": [
    "mcr.coding_rate(onp.random.randn(32, 128), 0.5)"
   ]
  },
  {
   "cell_type": "code",
   "execution_count": 16,
   "id": "8a2a5530-cfb4-4c4a-89bf-d6673982f5ee",
   "metadata": {},
   "outputs": [
    {
     "name": "stdout",
     "output_type": "stream",
     "text": [
      "-0.9961172 0.99741864\n"
     ]
    }
   ],
   "source": [
    "print(onp.min(X_hat), onp.max(X_hat))"
   ]
  },
  {
   "cell_type": "code",
   "execution_count": 17,
   "id": "131625b6-bc76-4397-b92e-8604d3d6c747",
   "metadata": {},
   "outputs": [
    {
     "name": "stdout",
     "output_type": "stream",
     "text": [
      "-1.0 1.0\n"
     ]
    }
   ],
   "source": [
    "print(onp.min(minibatch.image), onp.max(minibatch.image))"
   ]
  },
  {
   "cell_type": "code",
   "execution_count": null,
   "id": "905fd545-02ae-4105-bfbe-ea9529feb017",
   "metadata": {},
   "outputs": [],
   "source": []
  },
  {
   "cell_type": "code",
   "execution_count": 18,
   "id": "196bcc3a-0722-42c8-b60d-131e79148f39",
   "metadata": {},
   "outputs": [
    {
     "data": {
      "text/plain": [
       "(16, 128)"
      ]
     },
     "execution_count": 18,
     "metadata": {},
     "output_type": "execute_result"
    }
   ],
   "source": [
    "Z.shape"
   ]
  },
  {
   "cell_type": "code",
   "execution_count": 19,
   "id": "f65e48de-86b6-409f-ab85-89b09b1acb45",
   "metadata": {},
   "outputs": [
    {
     "data": {
      "text/plain": [
       "DeviceArray([[1.        , 0.7137828 , 0.72519475, 0.76950216, 0.7023047 ,\n",
       "              0.68847775, 0.79352665, 0.73899823, 0.7862992 , 0.8052949 ,\n",
       "              0.77433485, 0.7546045 , 0.7692729 , 0.7325611 , 0.82199204,\n",
       "              0.7726408 ],\n",
       "             [0.7137828 , 1.        , 0.718153  , 0.7614923 , 0.7096907 ,\n",
       "              0.6800306 , 0.76664793, 0.72159976, 0.75470614, 0.70968807,\n",
       "              0.7250619 , 0.75289476, 0.69689167, 0.71856403, 0.7631944 ,\n",
       "              0.7559842 ],\n",
       "             [0.72519475, 0.718153  , 1.        , 0.7331785 , 0.7172228 ,\n",
       "              0.7270168 , 0.76701003, 0.71781087, 0.76032716, 0.73295265,\n",
       "              0.6548039 , 0.7285995 , 0.7180488 , 0.7491595 , 0.7897223 ,\n",
       "              0.78519857],\n",
       "             [0.76950216, 0.7614923 , 0.7331785 , 0.9999999 , 0.68534386,\n",
       "              0.7385214 , 0.83037716, 0.8029869 , 0.84909785, 0.7574617 ,\n",
       "              0.8265921 , 0.77317715, 0.7630226 , 0.7995359 , 0.8778368 ,\n",
       "              0.8197006 ],\n",
       "             [0.7023047 , 0.7096907 , 0.7172228 , 0.68534386, 1.0000001 ,\n",
       "              0.69007367, 0.73836887, 0.69311124, 0.75133646, 0.68057144,\n",
       "              0.70154774, 0.6747315 , 0.6747447 , 0.7312034 , 0.7437587 ,\n",
       "              0.7587802 ],\n",
       "             [0.68847775, 0.6800306 , 0.7270168 , 0.7385214 , 0.69007367,\n",
       "              0.99999994, 0.77728075, 0.70358944, 0.755275  , 0.6430893 ,\n",
       "              0.6878979 , 0.7630765 , 0.6905879 , 0.7517183 , 0.8068291 ,\n",
       "              0.74834913],\n",
       "             [0.79352665, 0.76664793, 0.76701003, 0.83037716, 0.73836887,\n",
       "              0.77728075, 1.        , 0.80333316, 0.8901848 , 0.7385992 ,\n",
       "              0.7680148 , 0.8017383 , 0.7707782 , 0.79113734, 0.90513325,\n",
       "              0.8275149 ],\n",
       "             [0.73899823, 0.72159976, 0.71781087, 0.8029869 , 0.69311124,\n",
       "              0.70358944, 0.80333316, 1.        , 0.82588995, 0.7102332 ,\n",
       "              0.7809603 , 0.7416942 , 0.7155698 , 0.75055254, 0.8358109 ,\n",
       "              0.78344893],\n",
       "             [0.7862992 , 0.75470614, 0.76032716, 0.84909785, 0.75133646,\n",
       "              0.755275  , 0.8901848 , 0.82588995, 0.99999994, 0.7330468 ,\n",
       "              0.82667434, 0.753644  , 0.78826964, 0.7958455 , 0.9038585 ,\n",
       "              0.8267076 ],\n",
       "             [0.8052949 , 0.70968807, 0.73295265, 0.7574617 , 0.68057144,\n",
       "              0.6430893 , 0.7385992 , 0.7102332 , 0.7330468 , 1.        ,\n",
       "              0.6966253 , 0.7302047 , 0.73287237, 0.72972834, 0.77134824,\n",
       "              0.75614184],\n",
       "             [0.77433485, 0.7250619 , 0.6548039 , 0.8265921 , 0.70154774,\n",
       "              0.6878979 , 0.7680148 , 0.7809603 , 0.82667434, 0.6966253 ,\n",
       "              0.9999999 , 0.72629964, 0.7535439 , 0.72517765, 0.8256047 ,\n",
       "              0.7718754 ],\n",
       "             [0.7546045 , 0.75289476, 0.7285995 , 0.77317715, 0.6747315 ,\n",
       "              0.7630765 , 0.8017383 , 0.7416942 , 0.753644  , 0.7302047 ,\n",
       "              0.72629964, 1.0000001 , 0.71727836, 0.7614564 , 0.82828957,\n",
       "              0.725635  ],\n",
       "             [0.7692729 , 0.69689167, 0.7180488 , 0.7630226 , 0.6747447 ,\n",
       "              0.6905879 , 0.7707782 , 0.7155698 , 0.78826964, 0.73287237,\n",
       "              0.7535439 , 0.71727836, 1.        , 0.7045513 , 0.7739665 ,\n",
       "              0.7859307 ],\n",
       "             [0.7325611 , 0.71856403, 0.7491595 , 0.7995359 , 0.7312034 ,\n",
       "              0.7517183 , 0.79113734, 0.75055254, 0.7958455 , 0.72972834,\n",
       "              0.72517765, 0.7614564 , 0.7045513 , 0.99999994, 0.8282877 ,\n",
       "              0.7401892 ],\n",
       "             [0.82199204, 0.7631944 , 0.7897223 , 0.8778368 , 0.7437587 ,\n",
       "              0.8068291 , 0.90513325, 0.8358109 , 0.9038585 , 0.77134824,\n",
       "              0.8256047 , 0.82828957, 0.7739665 , 0.8282877 , 1.0000001 ,\n",
       "              0.8406814 ],\n",
       "             [0.7726408 , 0.7559842 , 0.78519857, 0.8197006 , 0.7587802 ,\n",
       "              0.74834913, 0.8275149 , 0.78344893, 0.8267076 , 0.75614184,\n",
       "              0.7718754 , 0.725635  , 0.7859307 , 0.7401892 , 0.8406814 ,\n",
       "              1.        ]], dtype=float32)"
      ]
     },
     "execution_count": 19,
     "metadata": {},
     "output_type": "execute_result"
    }
   ],
   "source": [
    "Z @ Z.T"
   ]
  },
  {
   "cell_type": "code",
   "execution_count": null,
   "id": "5d71721b-075f-4709-9b0f-fed80679e260",
   "metadata": {},
   "outputs": [],
   "source": []
  },
  {
   "cell_type": "code",
   "execution_count": null,
   "id": "1e92eb2a-5b16-4e3b-a036-8760a2de5b69",
   "metadata": {},
   "outputs": [],
   "source": []
  }
 ],
 "metadata": {
  "kernelspec": {
   "display_name": "Python 3 (ipykernel)",
   "language": "python",
   "name": "python3"
  },
  "language_info": {
   "codemirror_mode": {
    "name": "ipython",
    "version": 3
   },
   "file_extension": ".py",
   "mimetype": "text/x-python",
   "name": "python",
   "nbconvert_exporter": "python",
   "pygments_lexer": "ipython3",
   "version": "3.8.12"
  }
 },
 "nbformat": 4,
 "nbformat_minor": 5
}
