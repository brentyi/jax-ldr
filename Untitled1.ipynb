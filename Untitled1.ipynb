{
 "cells": [
  {
   "cell_type": "code",
   "execution_count": 1,
   "id": "84b71f60-6c9c-491c-aaa4-2fe3567c0e88",
   "metadata": {},
   "outputs": [],
   "source": [
    "from ldr import mcr, ldr"
   ]
  },
  {
   "cell_type": "code",
   "execution_count": 2,
   "id": "0f63613b-6f22-4496-b349-b5c3bcec98a6",
   "metadata": {},
   "outputs": [],
   "source": [
    "N = 1000\n",
    "D = 128\n",
    "import numpy as onp\n",
    "onp.random.seed(0)\n",
    "Z = onp.random.randn(N, D)\n",
    "Z_bar = Z + 1e-3 * onp.random.randn(N, D)\n",
    "real_label = onp.arange(1000) % 10"
   ]
  },
  {
   "cell_type": "code",
   "execution_count": 3,
   "id": "28083462-e153-48b5-b20e-cab256a77d95",
   "metadata": {},
   "outputs": [],
   "source": [
    "from ldr.mnist_data import make_one_hot"
   ]
  },
  {
   "cell_type": "code",
   "execution_count": 4,
   "id": "e3f56012-70ba-4253-8b2a-aca57b25c11d",
   "metadata": {},
   "outputs": [],
   "source": [
    "one_hot_labels = make_one_hot(real_label, num_classes=10)"
   ]
  },
  {
   "cell_type": "code",
   "execution_count": 5,
   "id": "fcceb51d-f4c2-4cfe-b428-5aeb0a1fa064",
   "metadata": {},
   "outputs": [
    {
     "data": {
      "text/plain": [
       "(DeviceArray(89.35101, dtype=float32),\n",
       " DeviceArray(89.35144, dtype=float32),\n",
       " DeviceArray(0.01849365, dtype=float32))"
      ]
     },
     "execution_count": 5,
     "metadata": {},
     "output_type": "execute_result"
    }
   ],
   "source": [
    "epsilon_sq = 0.5\n",
    "ldr.ldr_score_parts(Z, Z_bar, one_hot_labels, epsilon_sq)"
   ]
  },
  {
   "cell_type": "code",
   "execution_count": 6,
   "id": "50a3932d-4d29-4516-8827-d8673b2b3376",
   "metadata": {},
   "outputs": [
    {
     "data": {
      "text/plain": [
       "DeviceArray(178.72095, dtype=float32)"
      ]
     },
     "execution_count": 6,
     "metadata": {},
     "output_type": "execute_result"
    }
   ],
   "source": [
    "ldr.ldr_score(Z, Z_bar, one_hot_labels, epsilon_sq)"
   ]
  },
  {
   "cell_type": "code",
   "execution_count": 7,
   "id": "ae0ccd7e-75a7-49f0-b2d6-271c3025138c",
   "metadata": {},
   "outputs": [
    {
     "data": {
      "text/plain": [
       "DeviceArray(700.95953, dtype=float32)"
      ]
     },
     "execution_count": 7,
     "metadata": {},
     "output_type": "execute_result"
    }
   ],
   "source": [
    "mcr.coding_rate(Z, epsilon_sq)"
   ]
  },
  {
   "cell_type": "code",
   "execution_count": null,
   "id": "e7526688-95e5-48c2-81ef-54782cc3342e",
   "metadata": {},
   "outputs": [],
   "source": []
  }
 ],
 "metadata": {
  "kernelspec": {
   "display_name": "Python 3 (ipykernel)",
   "language": "python",
   "name": "python3"
  },
  "language_info": {
   "codemirror_mode": {
    "name": "ipython",
    "version": 3
   },
   "file_extension": ".py",
   "mimetype": "text/x-python",
   "name": "python",
   "nbconvert_exporter": "python",
   "pygments_lexer": "ipython3",
   "version": "3.8.12"
  }
 },
 "nbformat": 4,
 "nbformat_minor": 5
}
